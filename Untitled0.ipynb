{
  "nbformat": 4,
  "nbformat_minor": 0,
  "metadata": {
    "colab": {
      "provenance": []
    },
    "kernelspec": {
      "name": "python3",
      "display_name": "Python 3"
    },
    "language_info": {
      "name": "python"
    }
  },
  "cells": [
    {
      "cell_type": "code",
      "execution_count": 11,
      "metadata": {
        "colab": {
          "base_uri": "https://localhost:8080/"
        },
        "id": "nWpETdWOZh67",
        "outputId": "9ec860ae-c1a1-41e4-f4a9-b2b284efeca2"
      },
      "outputs": [
        {
          "output_type": "stream",
          "name": "stdout",
          "text": [
            "10    90\n",
            "11    26\n",
            "12    34\n",
            "13    12\n",
            "dtype: int64\n",
            "0    E\n",
            "1    a\n",
            "2    s\n",
            "3    y\n",
            "dtype: object\n"
          ]
        }
      ],
      "source": [
        "import pandas as pd\n",
        "lst=[\"E\",'a',\"s\",\"y\"]\n",
        "values=[90,26,34,12]\n",
        "re=pd.Series(lst)\n",
        "sca_series=pd.Series(values,[10,11,12,13])\n",
        "print(sca_series)\n",
        "print(re)"
      ]
    },
    {
      "cell_type": "code",
      "source": [],
      "metadata": {
        "id": "7KzGfvZueDF1"
      },
      "execution_count": null,
      "outputs": []
    },
    {
      "cell_type": "code",
      "source": [
        "import pandas as pd\n",
        "import numpy as np\n",
        "arr=np.array([1,2,3,4])\n",
        "series=pd.Series(arr)\n",
        "print(series)"
      ],
      "metadata": {
        "colab": {
          "base_uri": "https://localhost:8080/"
        },
        "id": "G5Lfvs4xaNbR",
        "outputId": "3c389d5a-c9f4-4954-c239-4bbac40dfdf7"
      },
      "execution_count": 17,
      "outputs": [
        {
          "output_type": "stream",
          "name": "stdout",
          "text": [
            "0    1\n",
            "1    2\n",
            "2    3\n",
            "3    4\n",
            "dtype: int64\n"
          ]
        }
      ]
    },
    {
      "cell_type": "code",
      "source": [
        "print(series[0])\n",
        "print(series[0:])\n",
        "print(series.values)"
      ],
      "metadata": {
        "colab": {
          "base_uri": "https://localhost:8080/"
        },
        "id": "NTFAgwTXcR9t",
        "outputId": "33726b2d-db57-48f4-89a0-52bed2612aff"
      },
      "execution_count": 18,
      "outputs": [
        {
          "output_type": "stream",
          "name": "stdout",
          "text": [
            "1\n",
            "0    1\n",
            "1    2\n",
            "2    3\n",
            "3    4\n",
            "dtype: int64\n",
            "[1 2 3 4]\n"
          ]
        }
      ]
    },
    {
      "cell_type": "code",
      "source": [
        "marks={\"social\":90,\"maths\":98,\"science\":97,\"tamil\":78,\"english\":78,\"cs\":None}\n",
        "dic_series=pd.Series(marks,name=\"Student_marks\")\n",
        "dic_series.index.name=\"Subject\"\n",
        "# dic_series.value.name=\"Mark\"\n",
        "print(dic_series)\n",
        "print(\"Name of the series:\",dic_series.name)"
      ],
      "metadata": {
        "colab": {
          "base_uri": "https://localhost:8080/"
        },
        "id": "wSBTCrLta7IJ",
        "outputId": "28c5ef49-c00a-473f-9ebd-59eb3ee0009e"
      },
      "execution_count": 36,
      "outputs": [
        {
          "output_type": "stream",
          "name": "stdout",
          "text": [
            "Subject\n",
            "social     90.0\n",
            "maths      98.0\n",
            "science    97.0\n",
            "tamil      78.0\n",
            "english    78.0\n",
            "cs          NaN\n",
            "Name: Student_marks, dtype: float64\n",
            "Name of the series: Student_marks\n"
          ]
        }
      ]
    },
    {
      "cell_type": "code",
      "source": [
        "key=input(\"enter key:\")\n",
        "print(f\"{key}:\",dic_series[key])\n",
        "print(dic_series.index)\n",
        "print(\"count no of items which dont have null values:\",dic_series.count())\n"
      ],
      "metadata": {
        "colab": {
          "base_uri": "https://localhost:8080/"
        },
        "id": "tAL40DWZcCGt",
        "outputId": "e2a20656-bd67-4822-bd2e-4e7f2ff06fb2"
      },
      "execution_count": 38,
      "outputs": [
        {
          "output_type": "stream",
          "name": "stdout",
          "text": [
            "enter key:maths\n",
            "maths: 98.0\n",
            "Index(['social', 'maths', 'science', 'tamil', 'english', 'cs'], dtype='object', name='Subject')\n",
            "count no of items which dont have null values: 5\n"
          ]
        }
      ]
    },
    {
      "cell_type": "code",
      "source": [
        "print(\"values:\",dic_series.values)\n",
        "print(\"size of the series:\",dic_series.size)\n",
        "print(\"check whether series is empty or not:\",dic_series.empty)"
      ],
      "metadata": {
        "colab": {
          "base_uri": "https://localhost:8080/"
        },
        "id": "1t7LMfiRePWE",
        "outputId": "4fe59412-a16d-49b8-d6dc-983aa40c693c"
      },
      "execution_count": 32,
      "outputs": [
        {
          "output_type": "stream",
          "name": "stdout",
          "text": [
            "values: [90 98 97 78 78]\n",
            "size of the series: 5\n",
            "check whether series is empty or not: False\n"
          ]
        }
      ]
    },
    {
      "cell_type": "code",
      "source": [
        "print(dic_series.index,\"\\n\")\n",
        "print(\"Head of the series:\\n\",dic_series.head(3),\"\\n\")\n",
        "print(\"Tail of the series:\\n\",dic_series.tail(2))"
      ],
      "metadata": {
        "colab": {
          "base_uri": "https://localhost:8080/"
        },
        "id": "iMyl9zlLgD19",
        "outputId": "f7666ea0-1810-452c-fd96-86a0d8bf7f67"
      },
      "execution_count": 39,
      "outputs": [
        {
          "output_type": "stream",
          "name": "stdout",
          "text": [
            "Index(['social', 'maths', 'science', 'tamil', 'english', 'cs'], dtype='object', name='Subject') \n",
            "\n",
            "Head of the series:\n",
            " Subject\n",
            "social     90.0\n",
            "maths      98.0\n",
            "science    97.0\n",
            "Name: Student_marks, dtype: float64 \n",
            "\n",
            "Tail of the series:\n",
            " Subject\n",
            "english    78.0\n",
            "cs          NaN\n",
            "Name: Student_marks, dtype: float64\n"
          ]
        }
      ]
    },
    {
      "cell_type": "code",
      "source": [
        "#Addition ,subtraction,multiplication,division of two series:\n",
        "num1=pd.Series([1,2,3,4,5,6])\n",
        "num2=pd.Series([10,11,12,13,14,15])\n",
        "addition=num1+num2\n",
        "subt=num2-num1\n",
        "mult=num1*num2\n",
        "div=num2/num1\n",
        "print(\"Addition of series:\\n\",addition)\n",
        "print(\"\\nSubtraction of series:\\n\",subt)\n",
        "print(\"\\nMultiplication of series:\\n\",mult)\n",
        "print(\"\\nDivision of series:\\n\",div)"
      ],
      "metadata": {
        "colab": {
          "base_uri": "https://localhost:8080/"
        },
        "id": "VbQMgfwhjdUs",
        "outputId": "4476c208-e7d6-4f6d-94d7-5a0478932b59"
      },
      "execution_count": 40,
      "outputs": [
        {
          "output_type": "stream",
          "name": "stdout",
          "text": [
            "Addition of series:\n",
            " 0    11\n",
            "1    13\n",
            "2    15\n",
            "3    17\n",
            "4    19\n",
            "5    21\n",
            "dtype: int64\n",
            "\n",
            "Subtraction of series:\n",
            " 0    9\n",
            "1    9\n",
            "2    9\n",
            "3    9\n",
            "4    9\n",
            "5    9\n",
            "dtype: int64\n",
            "\n",
            "Multiplication of series:\n",
            " 0    10\n",
            "1    22\n",
            "2    36\n",
            "3    52\n",
            "4    70\n",
            "5    90\n",
            "dtype: int64\n",
            "\n",
            "Division of series:\n",
            " 0    10.00\n",
            "1     5.50\n",
            "2     4.00\n",
            "3     3.25\n",
            "4     2.80\n",
            "5     2.50\n",
            "dtype: float64\n"
          ]
        }
      ]
    }
  ]
}