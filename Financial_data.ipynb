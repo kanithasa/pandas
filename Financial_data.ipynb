{
  "nbformat": 4,
  "nbformat_minor": 0,
  "metadata": {
    "colab": {
      "provenance": [],
      "authorship_tag": "ABX9TyPQV8p+ksdD4IihNx3Ddrux",
      "include_colab_link": true
    },
    "kernelspec": {
      "name": "python3",
      "display_name": "Python 3"
    },
    "language_info": {
      "name": "python"
    }
  },
  "cells": [
    {
      "cell_type": "markdown",
      "metadata": {
        "id": "view-in-github",
        "colab_type": "text"
      },
      "source": [
        "<a href=\"https://colab.research.google.com/github/kanithasa/pandas/blob/main/Financial_data.ipynb\" target=\"_parent\"><img src=\"https://colab.research.google.com/assets/colab-badge.svg\" alt=\"Open In Colab\"/></a>"
      ]
    },
    {
      "cell_type": "code",
      "execution_count": 1,
      "metadata": {
        "colab": {
          "base_uri": "https://localhost:8080/"
        },
        "id": "kxF1hUDMWaZ0",
        "outputId": "be7e85ff-9d18-4092-a564-5237969fd919"
      },
      "outputs": [
        {
          "output_type": "stream",
          "name": "stdout",
          "text": [
            "Collecting faker\n",
            "  Downloading Faker-19.8.0-py3-none-any.whl (1.7 MB)\n",
            "\u001b[2K     \u001b[90m━━━━━━━━━━━━━━━━━━━━━━━━━━━━━━━━━━━━━━━━\u001b[0m \u001b[32m1.7/1.7 MB\u001b[0m \u001b[31m6.6 MB/s\u001b[0m eta \u001b[36m0:00:00\u001b[0m\n",
            "\u001b[?25hRequirement already satisfied: python-dateutil>=2.4 in /usr/local/lib/python3.10/dist-packages (from faker) (2.8.2)\n",
            "Requirement already satisfied: six>=1.5 in /usr/local/lib/python3.10/dist-packages (from python-dateutil>=2.4->faker) (1.16.0)\n",
            "Installing collected packages: faker\n",
            "Successfully installed faker-19.8.0\n"
          ]
        }
      ],
      "source": [
        "!pip install faker\n"
      ]
    },
    {
      "cell_type": "code",
      "source": [
        "import pandas as pd\n",
        "import numpy as np\n",
        "import random\n",
        "from faker import Faker\n",
        "\n",
        "# Set a random seed for reproducibility\n",
        "np.random.seed(0)\n",
        "random.seed(0)\n",
        "\n",
        "# Create a Faker instance for generating fake data\n",
        "fake = Faker()\n",
        "\n",
        "# Define the number of rows in the dataset\n",
        "num_rows = 100\n",
        "\n",
        "# Generate random data for each field\n",
        "data = {\n",
        "    \"Transaction Amount\": np.random.uniform(10, 1000, num_rows),\n",
        "    \"Transaction Date and Time\": [fake.date_time_between(start_date='-2y', end_date='now') for _ in range(num_rows)],\n",
        "    \"Merchant or Counterparty Name\": [fake.company() for _ in range(num_rows)],\n",
        "    \"Transaction Location\": [fake.address() for _ in range(num_rows)],\n",
        "    \"Customer Account Number\": [fake.credit_card_number(card_type='mastercard') for _ in range(num_rows)],\n",
        "    \"Customer's Transaction History\": [random.choice([\"Normal\", \"Suspicious\"]) for _ in range(num_rows)],\n",
        "    \"Customer's Credit Score\": np.random.randint(300, 850, num_rows),\n",
        "    \"Customer's Income Level\": np.random.uniform(20000, 100000, num_rows),\n",
        "    \"Transaction Type\": [random.choice([\"Withdrawal\", \"Deposit\", \"Purchase\"]) for _ in range(num_rows)],\n",
        "    \"Card Type\": [random.choice([\"Credit Card\", \"Debit Card\"]) for _ in range(num_rows)],\n",
        "    \"Transaction Channel\": [random.choice([\"Online\", \"ATM\", \"In-Store\"]) for _ in range(num_rows)],\n",
        "    \"Transaction Authorization Code\": [fake.credit_card_security_code(card_type='mastercard') for _ in range(num_rows)],\n",
        "    \"Transaction Currency\": [random.choice([\"USD\", \"EUR\", \"GBP\"]) for _ in range(num_rows)],\n",
        "    \"Cardholder Verification Method\": [random.choice([\"PIN\", \"Signature\"]) for _ in range(num_rows)],\n",
        "    \"Card Expiry Date\": [fake.credit_card_expire(start=\"now\", end=\"+5y\", date_format=\"%m/%y\") for _ in range(num_rows)],\n",
        "    \"Previous Fraudulent Activity Flags\": [random.choice([\"Yes\", \"No\"]) for _ in range(num_rows)],\n",
        "    \"Average Balance in Customer Account\": np.random.uniform(100, 10000, num_rows),\n",
        "    \"Customer Age\": np.random.randint(18, 70, num_rows),\n",
        "    \"Customer's Employment Status\": [random.choice([\"Employed\", \"Unemployed\", \"Student\"]) for _ in range(num_rows)],\n",
        "    \"Customer's Residential Address\": [fake.address() for _ in range(num_rows)]\n",
        "}\n",
        "\n",
        "# Create a DataFrame\n",
        "df = pd.DataFrame(data)\n",
        "\n",
        "# Save the dataset to a CSV file\n",
        "df.to_csv(\"Financial_Data_Dataset.csv\", index=False)\n"
      ],
      "metadata": {
        "id": "GmjSBQGxWhD1"
      },
      "execution_count": 2,
      "outputs": []
    }
  ]
}