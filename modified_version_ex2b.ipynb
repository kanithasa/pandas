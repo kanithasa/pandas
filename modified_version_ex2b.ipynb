{
  "cells": [
    {
      "cell_type": "markdown",
      "metadata": {
        "id": "view-in-github",
        "colab_type": "text"
      },
      "source": [
        "<a href=\"https://colab.research.google.com/github/kanithasa/pandas/blob/main/modified_version_ex2b.ipynb\" target=\"_parent\"><img src=\"https://colab.research.google.com/assets/colab-badge.svg\" alt=\"Open In Colab\"/></a>"
      ]
    },
    {
      "cell_type": "code",
      "source": [
        "import pandas as pd\n",
        "\n",
        "# Create a dictionary with sales data\n",
        "data = {\n",
        "    '2014': [100.5, 150.8, 200.9,30000],\n",
        "    '2015': [12000, 18000, 22000, 30000],\n",
        "    '2016': [20000, 50000, 70000, 100000]}\n",
        "\n",
        "\n",
        "# Create the DataFrame with row and column labels\n",
        "sales_df = pd.DataFrame(data, index=['Madhu', 'Kusum', 'Kinshuk', 'Ankit'])\n",
        "\n",
        "# Print the DataFrame\n",
        "print(sales_df)"
      ],
      "metadata": {
        "colab": {
          "base_uri": "https://localhost:8080/"
        },
        "id": "ZwQk2qXTAg0O",
        "outputId": "8a974593-9e2e-45c8-e303-7e5ad704881a"
      },
      "execution_count": 114,
      "outputs": [
        {
          "output_type": "stream",
          "name": "stdout",
          "text": [
            "            2014   2015    2016\n",
            "Madhu      100.5  12000   20000\n",
            "Kusum      150.8  18000   50000\n",
            "Kinshuk    200.9  22000   70000\n",
            "Ankit    30000.0  30000  100000\n"
          ]
        }
      ]
    },
    {
      "cell_type": "code",
      "source": [
        "row_labels = sales_df.index\n",
        "print(\"Row labels of Sales:\")\n",
        "print(row_labels)\n"
      ],
      "metadata": {
        "colab": {
          "base_uri": "https://localhost:8080/"
        },
        "id": "YZP96H7FDooN",
        "outputId": "99bb6b42-ed89-40d5-c153-1a83e6bb2d70"
      },
      "execution_count": 75,
      "outputs": [
        {
          "output_type": "stream",
          "name": "stdout",
          "text": [
            "Row labels of Sales:\n",
            "Index(['Madhu', 'Kusum', 'Kinshuk', 'Ankit'], dtype='object')\n"
          ]
        }
      ]
    },
    {
      "cell_type": "code",
      "source": [
        "column_labels = sales_df.columns\n",
        "print(\"\\nColumn labels of Sales:\")\n",
        "print(column_labels)\n"
      ],
      "metadata": {
        "colab": {
          "base_uri": "https://localhost:8080/"
        },
        "id": "otvw0jFfDq83",
        "outputId": "277bf596-6776-480d-985b-e14fa9f9728d"
      },
      "execution_count": 76,
      "outputs": [
        {
          "output_type": "stream",
          "name": "stdout",
          "text": [
            "\n",
            "Column labels of Sales:\n",
            "Index(['2014', '2015', '2016'], dtype='object')\n"
          ]
        }
      ]
    },
    {
      "cell_type": "code",
      "source": [
        "data_types = sales_df.dtypes\n",
        "print(\"\\nData types of each column of Sales:\")\n",
        "print(data_types)\n"
      ],
      "metadata": {
        "colab": {
          "base_uri": "https://localhost:8080/"
        },
        "id": "FYYs37H4D6J8",
        "outputId": "c98dfe69-8b2f-428d-de2f-6f7d94563b8d"
      },
      "execution_count": 77,
      "outputs": [
        {
          "output_type": "stream",
          "name": "stdout",
          "text": [
            "\n",
            "Data types of each column of Sales:\n",
            "2014    float64\n",
            "2015      int64\n",
            "2016      int64\n",
            "dtype: object\n"
          ]
        }
      ]
    },
    {
      "cell_type": "code",
      "source": [
        "dimensions = sales_df.ndim\n",
        "shape = sales_df.shape\n",
        "size = sales_df.size\n",
        "values = sales_df.values\n",
        "\n",
        "print(\"\\nDimensions of Sales:\", dimensions)\n",
        "print(\"Shape of Sales:\", shape)\n",
        "print(\"Size of Sales:\", size)\n",
        "print(\"\\nValues of Sales:\")\n",
        "print(values)\n"
      ],
      "metadata": {
        "colab": {
          "base_uri": "https://localhost:8080/"
        },
        "id": "mcxSSHZnD8td",
        "outputId": "3f7adb7a-6a96-43cd-be9b-83921bcf7161"
      },
      "execution_count": 78,
      "outputs": [
        {
          "output_type": "stream",
          "name": "stdout",
          "text": [
            "\n",
            "Dimensions of Sales: 2\n",
            "Shape of Sales: (4, 3)\n",
            "Size of Sales: 12\n",
            "\n",
            "Values of Sales:\n",
            "[[   100.5  12000.   20000. ]\n",
            " [   150.8  18000.   50000. ]\n",
            " [   200.9  22000.   70000. ]\n",
            " [ 30000.   30000.  100000. ]]\n"
          ]
        }
      ]
    },
    {
      "cell_type": "code",
      "source": [
        "last_two_rows = sales_df.tail(2)\n",
        "print(\"\\nLast two rows of Sales:\")\n",
        "print(last_two_rows)\n"
      ],
      "metadata": {
        "colab": {
          "base_uri": "https://localhost:8080/"
        },
        "id": "uPeM2MEwEECK",
        "outputId": "e1b11b12-40e4-4d7d-feef-2fe505276a13"
      },
      "execution_count": 79,
      "outputs": [
        {
          "output_type": "stream",
          "name": "stdout",
          "text": [
            "\n",
            "Last two rows of Sales:\n",
            "            2014   2015    2016\n",
            "Kinshuk    200.9  22000   70000\n",
            "Ankit    30000.0  30000  100000\n"
          ]
        }
      ]
    },
    {
      "cell_type": "code",
      "source": [
        "first_two_columns = sales_df.iloc[:, :2]\n",
        "print(\"\\nFirst two columns of Sales:\")\n",
        "print(first_two_columns)\n"
      ],
      "metadata": {
        "colab": {
          "base_uri": "https://localhost:8080/"
        },
        "id": "TEZBrhLcEQuN",
        "outputId": "05aab15c-14e5-45b7-daea-f1f67e6a29ac"
      },
      "execution_count": 80,
      "outputs": [
        {
          "output_type": "stream",
          "name": "stdout",
          "text": [
            "\n",
            "First two columns of Sales:\n",
            "            2014   2015\n",
            "Madhu      100.5  12000\n",
            "Kusum      150.8  18000\n",
            "Kinshuk    200.9  22000\n",
            "Ankit    30000.0  30000\n"
          ]
        }
      ]
    },
    {
      "cell_type": "code",
      "source": [
        "data2 = {\n",
        "    '2017': [16000, 11000, 50000, 34000]\n",
        "}\n",
        "\n",
        "sales2_df = pd.DataFrame(data2, index=['Madhu', 'Kusum', 'Kinshuk', 'Ankit'])\n",
        "print(\"\\nSales2 DataFrame:\")\n",
        "print(sales2_df)\n"
      ],
      "metadata": {
        "colab": {
          "base_uri": "https://localhost:8080/"
        },
        "id": "we5qdG5iEcSd",
        "outputId": "e7ff4a48-ab80-4dea-d6fb-a88bea1e0aa8"
      },
      "execution_count": 115,
      "outputs": [
        {
          "output_type": "stream",
          "name": "stdout",
          "text": [
            "\n",
            "Sales2 DataFrame:\n",
            "          2017\n",
            "Madhu    16000\n",
            "Kusum    11000\n",
            "Kinshuk  50000\n",
            "Ankit    34000\n"
          ]
        }
      ]
    },
    {
      "cell_type": "code",
      "source": [
        "if sales2_df.empty:\n",
        "    print(\"\\nSales2 DataFrame is empty.\")\n",
        "else:\n",
        "    print(\"\\nSales2 DataFrame contains data.\")\n"
      ],
      "metadata": {
        "colab": {
          "base_uri": "https://localhost:8080/"
        },
        "id": "l-4ZRRWIE9A0",
        "outputId": "04f4dc3d-55f7-4d35-b5e1-02fbb582294e"
      },
      "execution_count": 102,
      "outputs": [
        {
          "output_type": "stream",
          "name": "stdout",
          "text": [
            "\n",
            "Sales2 DataFrame contains data.\n"
          ]
        }
      ]
    },
    {
      "cell_type": "code",
      "source": [
        "combined_sales = pd.concat([sales_df, sales2_df], axis=1)\n",
        "print(\"Combined Sales DataFrame:\")\n",
        "print(combined_sales)\n"
      ],
      "metadata": {
        "colab": {
          "base_uri": "https://localhost:8080/"
        },
        "id": "AN0srACCFE5J",
        "outputId": "f85eb059-3648-4ee7-c5ec-736968471c20"
      },
      "execution_count": 116,
      "outputs": [
        {
          "output_type": "stream",
          "name": "stdout",
          "text": [
            "Combined Sales DataFrame:\n",
            "            2014   2015    2016   2017\n",
            "Madhu      100.5  12000   20000  16000\n",
            "Kusum      150.8  18000   50000  11000\n",
            "Kinshuk    200.9  22000   70000  50000\n",
            "Ankit    30000.0  30000  100000  34000\n"
          ]
        }
      ]
    },
    {
      "cell_type": "code",
      "source": [
        "transposed_sales = sales_df.transpose()\n",
        "print(\"\\nTransposed Sales DataFrame:\")\n",
        "print(transposed_sales)\n"
      ],
      "metadata": {
        "colab": {
          "base_uri": "https://localhost:8080/"
        },
        "id": "8KJJ7Z-NFdD4",
        "outputId": "f60b2edc-2683-4ef8-ac4b-6ec01d4f39a7"
      },
      "execution_count": 85,
      "outputs": [
        {
          "output_type": "stream",
          "name": "stdout",
          "text": [
            "\n",
            "Transposed Sales DataFrame:\n",
            "        Madhu    Kusum  Kinshuk     Ankit\n",
            "2014    100.5    150.8    200.9   30000.0\n",
            "2015  12000.0  18000.0  22000.0   30000.0\n",
            "2016  20000.0  50000.0  70000.0  100000.0\n"
          ]
        }
      ]
    },
    {
      "cell_type": "code",
      "source": [
        "sales = combined_sales['2017']\n",
        "print(\"\\nSales in 2017:\")\n",
        "print(sales)\n"
      ],
      "metadata": {
        "colab": {
          "base_uri": "https://localhost:8080/"
        },
        "id": "rAo8sje6FiWf",
        "outputId": "d94df427-2504-4d55-d68a-299393c07983"
      },
      "execution_count": 104,
      "outputs": [
        {
          "output_type": "stream",
          "name": "stdout",
          "text": [
            "\n",
            "Sales in 2017:\n",
            "Madhu      16000\n",
            "Kusum      11000\n",
            "Kinshuk    50000\n",
            "Ankit      34000\n",
            "Name: 2017, dtype: int64\n"
          ]
        }
      ]
    },
    {
      "cell_type": "code",
      "source": [],
      "metadata": {
        "id": "6il3bXmmPdDg"
      },
      "execution_count": null,
      "outputs": []
    },
    {
      "cell_type": "code",
      "source": [
        "# Specify the default value for the new column\n",
        "default_value = 0\n",
        "\n",
        "# Use the .assign() method to add the new column with the default value\n",
        "combined_sales = combined_sales.assign(**{'2018': default_value})\n",
        "\n",
        "# Print the updated DataFrame\n",
        "print(\"Updated DataFrame with the '2018' column containing default values:\")\n",
        "\n",
        "print(combined_sales)\n"
      ],
      "metadata": {
        "colab": {
          "base_uri": "https://localhost:8080/"
        },
        "id": "pt6hDGGUPdbf",
        "outputId": "e8eaf601-8937-4008-e695-885934e9672d"
      },
      "execution_count": 117,
      "outputs": [
        {
          "output_type": "stream",
          "name": "stdout",
          "text": [
            "Updated DataFrame with the '2018' column containing default values:\n",
            "            2014   2015    2016   2017  2018\n",
            "Madhu      100.5  12000   20000  16000     0\n",
            "Kusum      150.8  18000   50000  11000     0\n",
            "Kinshuk    200.9  22000   70000  50000     0\n",
            "Ankit    30000.0  30000  100000  34000     0\n"
          ]
        }
      ]
    },
    {
      "cell_type": "code",
      "source": [
        "sales_madhu_ankit = combined_sales.loc[['Madhu', 'Ankit'], ['2017', '2018']]\n",
        "print(\"\\nSales made by Madhu and Ankit in 2017 and 2018:\")\n",
        "print(sales_madhu_ankit)\n",
        "\n"
      ],
      "metadata": {
        "colab": {
          "base_uri": "https://localhost:8080/"
        },
        "id": "gVl8qulkMEBa",
        "outputId": "b7366056-32d5-4a67-9653-eaf89989ca6d"
      },
      "execution_count": 118,
      "outputs": [
        {
          "output_type": "stream",
          "name": "stdout",
          "text": [
            "\n",
            "Sales made by Madhu and Ankit in 2017 and 2018:\n",
            "        2017  2018\n",
            "Madhu  16000     0\n",
            "Ankit  34000     0\n"
          ]
        }
      ]
    },
    {
      "cell_type": "code",
      "source": [
        "combined_sales.loc['Sumeet'] = [196.2, 37800, 52000, 78438, 38852]\n",
        "print(\"\\nUpdated Sales DataFrame with Sumeet's data:\")\n",
        "print(combined_sales)\n",
        "\n"
      ],
      "metadata": {
        "colab": {
          "base_uri": "https://localhost:8080/"
        },
        "id": "nlxpiQE8NiF8",
        "outputId": "a8f6169b-a079-47bd-d90f-0cfd240092f9"
      },
      "execution_count": 119,
      "outputs": [
        {
          "output_type": "stream",
          "name": "stdout",
          "text": [
            "\n",
            "Updated Sales DataFrame with Sumeet's data:\n",
            "            2014     2015      2016     2017     2018\n",
            "Madhu      100.5  12000.0   20000.0  16000.0      0.0\n",
            "Kusum      150.8  18000.0   50000.0  11000.0      0.0\n",
            "Kinshuk    200.9  22000.0   70000.0  50000.0      0.0\n",
            "Ankit    30000.0  30000.0  100000.0  34000.0      0.0\n",
            "Sumeet     196.2  37800.0   52000.0  78438.0  38852.0\n"
          ]
        }
      ]
    },
    {
      "cell_type": "code",
      "source": [
        "combined_sales = combined_sales.drop(columns='2014')\n",
        "print(\"\\nSales DataFrame after deleting data for 2014:\")\n",
        "print(combined_sales)\n"
      ],
      "metadata": {
        "colab": {
          "base_uri": "https://localhost:8080/"
        },
        "id": "oe-SSuHbON78",
        "outputId": "655864db-cee0-42c4-bca0-f2566bd9628d"
      },
      "execution_count": 120,
      "outputs": [
        {
          "output_type": "stream",
          "name": "stdout",
          "text": [
            "\n",
            "Sales DataFrame after deleting data for 2014:\n",
            "            2015      2016     2017     2018\n",
            "Madhu    12000.0   20000.0  16000.0      0.0\n",
            "Kusum    18000.0   50000.0  11000.0      0.0\n",
            "Kinshuk  22000.0   70000.0  50000.0      0.0\n",
            "Ankit    30000.0  100000.0  34000.0      0.0\n",
            "Sumeet   37800.0   52000.0  78438.0  38852.0\n"
          ]
        }
      ]
    },
    {
      "cell_type": "code",
      "source": [
        "combined_sales= combined_sales.drop('Kinshuk', axis=0)\n",
        "print(\"\\nSales DataFrame after deleting Kinshuk's data:\")\n",
        "print(combined_sales)\n"
      ],
      "metadata": {
        "colab": {
          "base_uri": "https://localhost:8080/"
        },
        "id": "CJAylAbYRDnc",
        "outputId": "aa225324-4aaa-46ce-c88c-a85e829545a3"
      },
      "execution_count": 121,
      "outputs": [
        {
          "output_type": "stream",
          "name": "stdout",
          "text": [
            "\n",
            "Sales DataFrame after deleting Kinshuk's data:\n",
            "           2015      2016     2017     2018\n",
            "Madhu   12000.0   20000.0  16000.0      0.0\n",
            "Kusum   18000.0   50000.0  11000.0      0.0\n",
            "Ankit   30000.0  100000.0  34000.0      0.0\n",
            "Sumeet  37800.0   52000.0  78438.0  38852.0\n"
          ]
        }
      ]
    },
    {
      "cell_type": "code",
      "source": [
        "combined_sales= combined_sales.rename(index={'Ankit': 'Vivaan', 'Madhu': 'Shailesh'})\n",
        "print(\"\\nSales DataFrame with updated names:\")\n",
        "print(combined_sales)\n"
      ],
      "metadata": {
        "colab": {
          "base_uri": "https://localhost:8080/"
        },
        "id": "Hdiut9gpRPTg",
        "outputId": "2ddb537a-d87e-49ea-a06d-7956b822d80e"
      },
      "execution_count": 122,
      "outputs": [
        {
          "output_type": "stream",
          "name": "stdout",
          "text": [
            "\n",
            "Sales DataFrame with updated names:\n",
            "             2015      2016     2017     2018\n",
            "Shailesh  12000.0   20000.0  16000.0      0.0\n",
            "Kusum     18000.0   50000.0  11000.0      0.0\n",
            "Vivaan    30000.0  100000.0  34000.0      0.0\n",
            "Sumeet    37800.0   52000.0  78438.0  38852.0\n"
          ]
        }
      ]
    },
    {
      "cell_type": "code",
      "source": [
        "combined_sales.loc['Shailesh', '2018'] = 100000\n",
        "print(\"\\nSales DataFrame with updated value for Shailesh in 2018:\")\n",
        "print(combined_sales)\n"
      ],
      "metadata": {
        "colab": {
          "base_uri": "https://localhost:8080/"
        },
        "id": "YWnJp3CkRXUE",
        "outputId": "0adaa15c-b39f-417d-accd-91162570c42f"
      },
      "execution_count": 131,
      "outputs": [
        {
          "output_type": "stream",
          "name": "stdout",
          "text": [
            "\n",
            "Sales DataFrame with updated value for Shailesh in 2018:\n",
            "             2015      2016     2017      2018\n",
            "Shailesh  12000.0   20000.0  16000.0  100000.0\n",
            "Kusum     18000.0   50000.0  11000.0       0.0\n",
            "Vivaan    30000.0  100000.0  34000.0       0.0\n",
            "Sumeet    37800.0   52000.0  78438.0   38852.0\n"
          ]
        }
      ]
    },
    {
      "cell_type": "code",
      "source": [
        "combined_sales.to_csv(\"SalesFigures.csv\", index=False, header=False)\n"
      ],
      "metadata": {
        "id": "wuENOvh5ShU0"
      },
      "execution_count": 133,
      "outputs": []
    },
    {
      "cell_type": "code",
      "source": [
        "sales_retrieved = pd.read_csv(\"SalesFigures.csv\", header=None)\n",
        "sales_retrieved.index = combined_sales.index\n",
        "sales_retrieved.columns = combined_sales.columns\n",
        "print(\"\\nSalesRetrieved DataFrame:\")\n",
        "print(sales_retrieved)\n"
      ],
      "metadata": {
        "colab": {
          "base_uri": "https://localhost:8080/"
        },
        "id": "_-1BDOf-S_n5",
        "outputId": "0f6fa249-33dc-4674-8fb7-2bb2ac994b47"
      },
      "execution_count": 134,
      "outputs": [
        {
          "output_type": "stream",
          "name": "stdout",
          "text": [
            "\n",
            "SalesRetrieved DataFrame:\n",
            "             2015      2016     2017      2018\n",
            "Shailesh  12000.0   20000.0  16000.0  100000.0\n",
            "Kusum     18000.0   50000.0  11000.0       0.0\n",
            "Vivaan    30000.0  100000.0  34000.0       0.0\n",
            "Sumeet    37800.0   52000.0  78438.0   38852.0\n"
          ]
        }
      ]
    }
  ],
  "metadata": {
    "colab": {
      "name": "Welcome To Colaboratory",
      "provenance": [],
      "include_colab_link": true
    },
    "kernelspec": {
      "display_name": "Python 3",
      "name": "python3"
    }
  },
  "nbformat": 4,
  "nbformat_minor": 0
}