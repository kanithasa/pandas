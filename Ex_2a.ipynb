{
  "nbformat": 4,
  "nbformat_minor": 0,
  "metadata": {
    "colab": {
      "provenance": [],
      "authorship_tag": "ABX9TyNeeevJwTaNXZxwoXlbhm+m",
      "include_colab_link": true
    },
    "kernelspec": {
      "name": "python3",
      "display_name": "Python 3"
    },
    "language_info": {
      "name": "python"
    }
  },
  "cells": [
    {
      "cell_type": "markdown",
      "metadata": {
        "id": "view-in-github",
        "colab_type": "text"
      },
      "source": [
        "<a href=\"https://colab.research.google.com/github/kanithasa/pandas/blob/main/Ex_2a.ipynb\" target=\"_parent\"><img src=\"https://colab.research.google.com/assets/colab-badge.svg\" alt=\"Open In Colab\"/></a>"
      ]
    },
    {
      "cell_type": "code",
      "execution_count": 10,
      "metadata": {
        "colab": {
          "base_uri": "https://localhost:8080/"
        },
        "id": "nWpETdWOZh67",
        "outputId": "c6d7686c-a335-49ff-b647-8f9e678b19e8"
      },
      "outputs": [
        {
          "output_type": "stream",
          "name": "stdout",
          "text": [
            "10    90\n",
            "11    26\n",
            "12    34\n",
            "13    12\n",
            "dtype: int64\n",
            "0    E\n",
            "1    a\n",
            "2    s\n",
            "3    y\n",
            "dtype: object\n"
          ]
        }
      ],
      "source": [
        "import pandas as pd\n",
        "lst=[\"E\",'a',\"s\",\"y\"]\n",
        "values=[90,26,34,12]\n",
        "re=pd.Series(lst)\n",
        "sca_series=pd.Series(values,[10,11,12,13])\n",
        "print(sca_series)\n",
        "print(re)"
      ]
    },
    {
      "cell_type": "code",
      "source": [
        "import pandas as pd\n",
        "import numpy as np\n",
        "arr=np.array([1,2,3,4])\n",
        "series=pd.Series(arr)\n",
        "print(series)"
      ],
      "metadata": {
        "colab": {
          "base_uri": "https://localhost:8080/"
        },
        "id": "G5Lfvs4xaNbR",
        "outputId": "84863278-cc2a-474e-9d8a-f9880cd1e545"
      },
      "execution_count": 11,
      "outputs": [
        {
          "output_type": "stream",
          "name": "stdout",
          "text": [
            "0    1\n",
            "1    2\n",
            "2    3\n",
            "3    4\n",
            "dtype: int64\n"
          ]
        }
      ]
    },
    {
      "cell_type": "code",
      "source": [
        "print(\"value at the index 0:\", series[0])\n",
        "print(\"slicing\\n\")\n",
        "print(series[0:])\n",
        "print(series.values)"
      ],
      "metadata": {
        "colab": {
          "base_uri": "https://localhost:8080/"
        },
        "id": "NTFAgwTXcR9t",
        "outputId": "c5d1dc33-6059-4480-8880-62af6f1e397a"
      },
      "execution_count": 20,
      "outputs": [
        {
          "output_type": "stream",
          "name": "stdout",
          "text": [
            "value at the index 0: 1\n",
            "slicing\n",
            "\n",
            "0    1\n",
            "1    2\n",
            "2    3\n",
            "3    4\n",
            "dtype: int64\n",
            "[1 2 3 4]\n"
          ]
        }
      ]
    },
    {
      "cell_type": "code",
      "source": [
        "marks={\"social\":90,\"maths\":98,\"science\":97,\"tamil\":78,\"english\":78,\"cs\":None}\n",
        "dic_series=pd.Series(marks,name=\"Student_marks\")\n",
        "print(dic_series)\n",
        "dic_series.index.name=\"Subject\"\n",
        "# dic_series.value.name=\"Mark\"\n",
        "print(dic_series)\n",
        "print(\"Name of the series:\",dic_series.name)"
      ],
      "metadata": {
        "colab": {
          "base_uri": "https://localhost:8080/"
        },
        "id": "wSBTCrLta7IJ",
        "outputId": "38e318f3-1c5d-4fa8-9e8e-c1838c0dbc23"
      },
      "execution_count": 17,
      "outputs": [
        {
          "output_type": "stream",
          "name": "stdout",
          "text": [
            "social     90.0\n",
            "maths      98.0\n",
            "science    97.0\n",
            "tamil      78.0\n",
            "english    78.0\n",
            "cs          NaN\n",
            "Name: Student_marks, dtype: float64\n",
            "Subject\n",
            "social     90.0\n",
            "maths      98.0\n",
            "science    97.0\n",
            "tamil      78.0\n",
            "english    78.0\n",
            "cs          NaN\n",
            "Name: Student_marks, dtype: float64\n",
            "Name of the series: Student_marks\n"
          ]
        }
      ]
    },
    {
      "cell_type": "code",
      "source": [
        "key=input(\"enter key:\")\n",
        "print(f\"{key}:\",dic_series[key])\n",
        "print(dic_series.index)\n",
        "\n"
      ],
      "metadata": {
        "colab": {
          "base_uri": "https://localhost:8080/"
        },
        "id": "tAL40DWZcCGt",
        "outputId": "081c1d26-b194-44ac-9384-4f9461399f1b"
      },
      "execution_count": 14,
      "outputs": [
        {
          "output_type": "stream",
          "name": "stdout",
          "text": [
            "enter key:social\n",
            "social: 90.0\n",
            "Index(['social', 'maths', 'science', 'tamil', 'english', 'cs'], dtype='object', name='Subject')\n"
          ]
        }
      ]
    },
    {
      "cell_type": "code",
      "source": [
        "print(\"values:\",dic_series.values)\n",
        "print(\"size of the series:\",dic_series.size)\n",
        "print(\"check whether series is empty or not:\",dic_series.empty)"
      ],
      "metadata": {
        "colab": {
          "base_uri": "https://localhost:8080/"
        },
        "id": "1t7LMfiRePWE",
        "outputId": "f0bb8e45-bc28-483c-9d1c-c3e39d813351"
      },
      "execution_count": 15,
      "outputs": [
        {
          "output_type": "stream",
          "name": "stdout",
          "text": [
            "values: [90. 98. 97. 78. 78. nan]\n",
            "size of the series: 6\n",
            "check whether series is empty or not: False\n"
          ]
        }
      ]
    },
    {
      "cell_type": "code",
      "source": [
        "\n",
        "print(\"count no of items which dont have null values:\",dic_series.count())\n",
        "print(\"Head of the series:\\n\",dic_series.head(3),\"\\n\")\n",
        "print(\"Tail of the series:\\n\",dic_series.tail(2))"
      ],
      "metadata": {
        "colab": {
          "base_uri": "https://localhost:8080/"
        },
        "id": "iMyl9zlLgD19",
        "outputId": "b21be3e2-3700-4b4b-9ed1-a7e3554f48a8"
      },
      "execution_count": 16,
      "outputs": [
        {
          "output_type": "stream",
          "name": "stdout",
          "text": [
            "count no of items which dont have null values: 5\n",
            "Head of the series:\n",
            " Subject\n",
            "social     90.0\n",
            "maths      98.0\n",
            "science    97.0\n",
            "Name: Student_marks, dtype: float64 \n",
            "\n",
            "Tail of the series:\n",
            " Subject\n",
            "english    78.0\n",
            "cs          NaN\n",
            "Name: Student_marks, dtype: float64\n"
          ]
        }
      ]
    },
    {
      "cell_type": "code",
      "source": [
        "#Addition ,subtraction,multiplication,division of two series:\n",
        "import pandas as pd\n",
        "num1=pd.Series([1,2,3,4,5,6])\n",
        "num2=pd.Series([10,11,12,13,14,15])\n",
        "addition=num1+num2\n",
        "subt=num2-num1\n",
        "mult=num1*num2\n",
        "div=num2/num1\n",
        "print(\"Addition of series:\\n\",addition)\n",
        "print(\"\\nSubtraction of series:\\n\",subt)\n",
        "print(\"\\nMultiplication of series:\\n\",mult)\n",
        "print(\"\\nDivision of series:\\n\",div)"
      ],
      "metadata": {
        "colab": {
          "base_uri": "https://localhost:8080/"
        },
        "id": "VbQMgfwhjdUs",
        "outputId": "046771b5-0137-4d32-f0a3-da0909c228ca"
      },
      "execution_count": 2,
      "outputs": [
        {
          "output_type": "stream",
          "name": "stdout",
          "text": [
            "Addition of series:\n",
            " 0    11\n",
            "1    13\n",
            "2    15\n",
            "3    17\n",
            "4    19\n",
            "5    21\n",
            "dtype: int64\n",
            "\n",
            "Subtraction of series:\n",
            " 0    9\n",
            "1    9\n",
            "2    9\n",
            "3    9\n",
            "4    9\n",
            "5    9\n",
            "dtype: int64\n",
            "\n",
            "Multiplication of series:\n",
            " 0    10\n",
            "1    22\n",
            "2    36\n",
            "3    52\n",
            "4    70\n",
            "5    90\n",
            "dtype: int64\n",
            "\n",
            "Division of series:\n",
            " 0    10.00\n",
            "1     5.50\n",
            "2     4.00\n",
            "3     3.25\n",
            "4     2.80\n",
            "5     2.50\n",
            "dtype: float64\n"
          ]
        }
      ]
    },
    {
      "cell_type": "code",
      "source": [
        "import pandas as pd\n",
        "#a.Create empty data frame\n",
        "df=pd.DataFrame()\n",
        "print(\"6.a) Create empty data frame\\n\")\n",
        "print(df)\n",
        "#b.Creation of DataFrame from NumPy nd arrays\n",
        "import numpy as np\n",
        "n_arr=np.array([[1,2,3,4,5],[6,7,8,9,10],[11,12,13,14,15]])\n",
        "df=pd.DataFrame(n_arr,columns=[\"A\",\"B\",\"C\",\"D\",\"E\"])\n",
        "print(\"\\n6.b) DataFrame from NumPy nd arrays:\\n\")\n",
        "print(df)\n",
        "\n",
        "#c.Creation of DataFrame from List of Dictionaries\n",
        "dc=[{\"maths\":90,\"science\":99,\"social\":90,\"tamil\":89,\"english\":93}]\n",
        "li_dc=pd.DataFrame(dc)\n",
        "print(\"\\n6.c) Creation of DataFrame from List of Dictionaries\\n\")\n",
        "print(li_dc)\n",
        "\n",
        "#d.Creation of DataFrame from Dictionary of Lists\n",
        "dic={\"maths\":[89,99,100],\"science\":[90,89,67],\"social\":[88,99,100]}\n",
        "dic_li=pd.DataFrame(dic)\n",
        "print(\"\\n6.d) Creation of DataFrame from Dictionary of Lists\\n\")\n",
        "print(dic_li)\n",
        "\n",
        "#e.Creation of DataFrame from Series\n",
        "se=pd.Series([\"Apple\",\"Mango\",\"Orange\"],name=\"Fruit name\")\n",
        "se1=pd.Series([90,89,67],name=\"Cost\")\n",
        "df_Se=pd.DataFrame({\"Fruit name\":se,\"Cost\":se1})\n",
        "print(\"\\n6.e) Creation of DataFrame from Series\\n\")\n",
        "print(df_Se)\n",
        "\n",
        "#f.Creation of DataFrame from Dictionary of Series\n",
        "dic={\"Fruits\":pd.Series([\"Apple\",\"Orange\",\"Mango\"]),\"Cost\":pd.Series([89,23,56])}\n",
        "dic_series=pd.DataFrame(dic)\n",
        "print(\"\\n6.f) Creation of DataFrame from Dictionary of Series\\n\")\n",
        "print(dic_series)"
      ],
      "metadata": {
        "colab": {
          "base_uri": "https://localhost:8080/"
        },
        "id": "w5nLfK25CKnk",
        "outputId": "581db36b-7938-4a8e-c946-5adca0175b3d"
      },
      "execution_count": 40,
      "outputs": [
        {
          "output_type": "stream",
          "name": "stdout",
          "text": [
            "6.a) Create empty data frame\n",
            "\n",
            "Empty DataFrame\n",
            "Columns: []\n",
            "Index: []\n",
            "\n",
            "6.b) DataFrame from NumPy nd arrays:\n",
            "\n",
            "    A   B   C   D   E\n",
            "0   1   2   3   4   5\n",
            "1   6   7   8   9  10\n",
            "2  11  12  13  14  15\n",
            "\n",
            "6.c) Creation of DataFrame from List of Dictionaries\n",
            "\n",
            "   maths  science  social  tamil  english\n",
            "0     90       99      90     89       93\n",
            "\n",
            "6.d) Creation of DataFrame from Dictionary of Lists\n",
            "\n",
            "   maths  science  social\n",
            "0     89       90      88\n",
            "1     99       89      99\n",
            "2    100       67     100\n",
            "\n",
            "6.e) Creation of DataFrame from Series\n",
            "\n",
            "  Fruit name  Cost\n",
            "0      Apple    90\n",
            "1      Mango    89\n",
            "2     Orange    67\n",
            "\n",
            "6.f) Creation of DataFrame from Dictionary of Series\n",
            "\n",
            "   Fruits  Cost\n",
            "0   Apple    89\n",
            "1  Orange    23\n",
            "2   Mango    56\n"
          ]
        }
      ]
    },
    {
      "cell_type": "code",
      "source": [
        "#7.a) Adding a New Column to a DataFrame\n",
        "print(\"before adding column:\\n\")\n",
        "print(dic_series)\n",
        "dic_series[\"available quantity\"]=[4,2,5]\n",
        "print(\"\\nAfter adding column\\n\")\n",
        "print(\"7.a) Adding a New Column to a DataFrame:\\n\")\n",
        "print(dic_series)\n",
        "\n",
        "#7.b) Adding a New Row to a DataFrame\n",
        "print(\"\\nbefore adding row\\n\")\n",
        "print(dic_series)\n",
        "print(\"\\n After adding row\\n\")\n",
        "print(\"\\n7.b) Adding a New Row to a DataFrame\\n\")\n",
        "new={\"Fruits\":\"Jackfruit\",\"Cost\":73,\"available quantity\":3}\n",
        "new_df=pd.DataFrame([new])\n",
        "dic_series=pd.concat([dic_series,new_df],ignore_index=True)\n",
        "print(dic_series)\n",
        "#7.c) Deleting Rows or Columns from a DataFrame\n",
        "print(\"\\n Delete row:\\n\")\n",
        "dic_series=dic_series.drop(0)\n",
        "print(dic_series)\n",
        "\n",
        "print(\"\\n Delete column:\\n\")\n",
        "dic_series=dic_series.drop(\"available quantity\",axis=1)\n",
        "print(dic_series)\n",
        "\n",
        "\n",
        "#7.d) Renaming Row Labels of a DataFrame\n",
        "data = {'Name': ['Ammu', 'Amutha', 'Shanumgam'],'Age': [25, 30, 35]}\n",
        "df = pd.DataFrame(data, index=['A', 'B', 'C'])\n",
        "df = df.rename(index={'B':2})\n",
        "df = df.rename(index={'A':1})\n",
        "df = df.rename(index={'C':3})\n",
        "print(\"\\n Renaming row\\n\")\n",
        "print(df)\n"
      ],
      "metadata": {
        "colab": {
          "base_uri": "https://localhost:8080/"
        },
        "id": "uCKwI-wzJDW7",
        "outputId": "6d6161b6-3b79-4c81-dc16-674718ec27a0"
      },
      "execution_count": 41,
      "outputs": [
        {
          "output_type": "stream",
          "name": "stdout",
          "text": [
            "before adding column:\n",
            "\n",
            "   Fruits  Cost\n",
            "0   Apple    89\n",
            "1  Orange    23\n",
            "2   Mango    56\n",
            "\n",
            "After adding column\n",
            "\n",
            "7.a) Adding a New Column to a DataFrame:\n",
            "\n",
            "   Fruits  Cost  available quantity\n",
            "0   Apple    89                   4\n",
            "1  Orange    23                   2\n",
            "2   Mango    56                   5\n",
            "\n",
            "before adding row\n",
            "\n",
            "   Fruits  Cost  available quantity\n",
            "0   Apple    89                   4\n",
            "1  Orange    23                   2\n",
            "2   Mango    56                   5\n",
            "\n",
            " After adding row\n",
            "\n",
            "\n",
            "7.b) Adding a New Row to a DataFrame\n",
            "\n",
            "      Fruits  Cost  available quantity\n",
            "0      Apple    89                   4\n",
            "1     Orange    23                   2\n",
            "2      Mango    56                   5\n",
            "3  Jackfruit    73                   3\n",
            "\n",
            " Delete row:\n",
            "\n",
            "      Fruits  Cost  available quantity\n",
            "1     Orange    23                   2\n",
            "2      Mango    56                   5\n",
            "3  Jackfruit    73                   3\n",
            "\n",
            " Delete column:\n",
            "\n",
            "      Fruits  Cost\n",
            "1     Orange    23\n",
            "2      Mango    56\n",
            "3  Jackfruit    73\n",
            "\n",
            " Renaming row\n",
            "\n",
            "        Name  Age\n",
            "1       Ammu   25\n",
            "2     Amutha   30\n",
            "3  Shanumgam   35\n"
          ]
        }
      ]
    },
    {
      "cell_type": "code",
      "source": [
        "#8.a) Label Based Indexing\n",
        "print(df)\n",
        "print(\"\\nAccessing a single element by label\\n\")\n",
        "value = df.loc[1, 'Age']\n",
        "print(value)  # Output: 30\n",
        "\n",
        "print(\"\\nAccessing a single column by label\\n\")\n",
        "column = df.loc[:, 'Name']\n",
        "print(column)\n",
        "#8.b) Boolean Indexing\n",
        "\n",
        "filt_df = df[df['Age'] > 25]\n",
        "print(\"\\n Boolean indexing\\n\")\n",
        "print(filt_df)"
      ],
      "metadata": {
        "colab": {
          "base_uri": "https://localhost:8080/"
        },
        "id": "0G_MzwNHN8Q_",
        "outputId": "10e62065-d0bc-4559-b233-7424ebe98c43"
      },
      "execution_count": 46,
      "outputs": [
        {
          "output_type": "stream",
          "name": "stdout",
          "text": [
            "        Name  Age\n",
            "1       Ammu   25\n",
            "2     Amutha   30\n",
            "3  Shanumgam   35\n",
            "\n",
            "Accessing a single element by label\n",
            "\n",
            "25\n",
            "\n",
            "Accessing a single column by label\n",
            "\n",
            "1    25\n",
            "2    30\n",
            "3    35\n",
            "Name: Age, dtype: int64\n",
            "\n",
            " Boolean indexing\n",
            "\n",
            "        Name  Age\n",
            "2     Amutha   30\n",
            "3  Shanumgam   35\n"
          ]
        }
      ]
    },
    {
      "cell_type": "code",
      "source": [
        "#9.Accessing DataFrames Element through Slicing\n",
        "data = {'A': [1, 2, 3, 4, 5],\n",
        "        'B': [10, 20, 30, 40, 50]}\n",
        "\n",
        "df = pd.DataFrame(data, index=['row1', 'row2', 'row3', 'row4', 'row5'])\n",
        "\n",
        "# Slicing rows and columns using .loc[]\n",
        "sliced_df = df.loc['row1':'row4', 'A':'B']\n",
        "print(\"\\nSlicing rows and columns using .loc[]\\n\")\n",
        "print(sliced_df)\n",
        "# Slicing rows and columns using .iloc[]\n",
        "print(\"\\nSlicing rows and columns using .iloc[]\\n\")\n",
        "sliced_df = df.iloc[1:4, 0:2]\n",
        "print(sliced_df)\n",
        "\n",
        "#Filtering Rows in DataFrames\n",
        "print(\"\\nFiltering Rows in DataFrames\\n\")\n",
        "filt_df = df[df['B'] > 25]\n",
        "print(filt_df)\n"
      ],
      "metadata": {
        "colab": {
          "base_uri": "https://localhost:8080/"
        },
        "id": "HquzfjRnO83J",
        "outputId": "1fac6885-ba12-49b5-9ab7-f421ec0d9eb2"
      },
      "execution_count": 49,
      "outputs": [
        {
          "output_type": "stream",
          "name": "stdout",
          "text": [
            "\n",
            "Slicing rows and columns using .loc[]\n",
            "\n",
            "      A   B\n",
            "row1  1  10\n",
            "row2  2  20\n",
            "row3  3  30\n",
            "row4  4  40\n",
            "\n",
            "Slicing rows and columns using .iloc[]\n",
            "\n",
            "      A   B\n",
            "row2  2  20\n",
            "row3  3  30\n",
            "row4  4  40\n",
            "\n",
            "Filtering Rows in DataFrames\n",
            "\n",
            "      A   B\n",
            "row3  3  30\n",
            "row4  4  40\n",
            "row5  5  50\n"
          ]
        }
      ]
    },
    {
      "cell_type": "code",
      "source": [
        "#10.Joining\n",
        "\n",
        "df1 = pd.DataFrame({'key': ['A', 'B', 'C', 'D'],'value1': [1, 2, 3, 4]})\n",
        "\n",
        "df2 = pd.DataFrame({'key': ['B', 'D', 'E', 'F'],'value2': [5, 6, 7, 8]})\n",
        "\n",
        "result_inner = pd.merge(df1, df2, on='key', how='inner')\n",
        "print(\"\\n Inner join\\n\")\n",
        "print(result_inner)\n",
        "\n",
        "print(\"\\nLeft join\\n\")\n",
        "result_left = pd.merge(df1, df2, on='key', how='left')\n",
        "print(result_left)\n",
        "\n",
        "\n",
        "print(\"\\n Outer join\\n\")\n",
        "result_outer = pd.merge(df1, df2, on='key', how='outer')\n",
        "print(result_outer)\n"
      ],
      "metadata": {
        "colab": {
          "base_uri": "https://localhost:8080/"
        },
        "id": "1Qv3WKyAQj8i",
        "outputId": "3656d468-fbe2-48f2-fe23-6dde89e601cf"
      },
      "execution_count": 50,
      "outputs": [
        {
          "output_type": "stream",
          "name": "stdout",
          "text": [
            "\n",
            " Inner join\n",
            "\n",
            "  key  value1  value2\n",
            "0   B       2       5\n",
            "1   D       4       6\n",
            "\n",
            "Left join\n",
            "\n",
            "  key  value1  value2\n",
            "0   A       1     NaN\n",
            "1   B       2     5.0\n",
            "2   C       3     NaN\n",
            "3   D       4     6.0\n",
            "\n",
            " Outer join\n",
            "\n",
            "  key  value1  value2\n",
            "0   A     1.0     NaN\n",
            "1   B     2.0     5.0\n",
            "2   C     3.0     NaN\n",
            "3   D     4.0     6.0\n",
            "4   E     NaN     7.0\n",
            "5   F     NaN     8.0\n"
          ]
        }
      ]
    },
    {
      "cell_type": "code",
      "source": [
        "#11.Attributes of dataframe\n",
        "import pandas as pd\n",
        "\n",
        "df = pd.DataFrame({'A': [1, 2, 3], 'B': [4, 5, 6]})\n",
        "shape = df.shape  # Returns (3, 2)\n",
        "print(\"\\n Shape\\n\")\n",
        "print(shape)\n",
        "\n",
        "columns = df.columns  # Returns Index(['A', 'B'], dtype='object')\n",
        "print(\"\\n column\\n\")\n",
        "print(columns)\n",
        "index = df.index  # Returns RangeIndex(start=0, stop=3, step=1)\n",
        "print(\"\\nindex\\n\")\n",
        "print(index)\n",
        "print(\"\\ndatatypes\\n\")\n",
        "dtypes = df.dtypes\n",
        "print(dtypes)\n",
        "print(\"\\nFirst 5 rows\\n\")\n",
        "first_five_rows = df.head()\n",
        "print(first_five_rows)\n",
        "print(\"\\nLast five rows\\n\")\n",
        "last_five_rows = df.tail()\n",
        "print(last_five_rows)\n",
        "\n",
        "print(\"\\n information:\\n\",df.info())\n",
        "\n",
        "\n",
        "#Importing a CSV File to a DataFrame:\n",
        "print(\"\\nImporting a CSV File to a DataFrame:\\n\")\n",
        "# Import data from a CSV file\n",
        "df = pd.read_csv('/file.csv')\n",
        "\n",
        "# Print the DataFrame\n",
        "print(df)\n",
        "#Exporting a DataFrame to a CSV File:\n",
        "print(\"\\nExporting a DataFrame to a CSV File:\\n\")\n",
        "\n",
        "# Create or obtain a DataFrame (e.g., df)\n",
        "df = pd.DataFrame({'A': [1, 2, 3], 'B': [4, 5, 6]})\n",
        "\n",
        "# Export the DataFrame to a CSV file\n",
        "df.to_csv('output.csv', index=False)  # Set index=False to exclude row index in the output\n",
        "print(df)\n"
      ],
      "metadata": {
        "colab": {
          "base_uri": "https://localhost:8080/"
        },
        "id": "nIW9QaPFRry0",
        "outputId": "104528b2-287e-41bc-e37f-a63076f02f6e"
      },
      "execution_count": 8,
      "outputs": [
        {
          "output_type": "stream",
          "name": "stdout",
          "text": [
            "\n",
            " Shape\n",
            "\n",
            "(3, 2)\n",
            "\n",
            " column\n",
            "\n",
            "Index(['A', 'B'], dtype='object')\n",
            "\n",
            "index\n",
            "\n",
            "RangeIndex(start=0, stop=3, step=1)\n",
            "\n",
            "datatypes\n",
            "\n",
            "A    int64\n",
            "B    int64\n",
            "dtype: object\n",
            "\n",
            "First 5 rows\n",
            "\n",
            "   A  B\n",
            "0  1  4\n",
            "1  2  5\n",
            "2  3  6\n",
            "\n",
            "Last five rows\n",
            "\n",
            "   A  B\n",
            "0  1  4\n",
            "1  2  5\n",
            "2  3  6\n",
            "<class 'pandas.core.frame.DataFrame'>\n",
            "RangeIndex: 3 entries, 0 to 2\n",
            "Data columns (total 2 columns):\n",
            " #   Column  Non-Null Count  Dtype\n",
            "---  ------  --------------  -----\n",
            " 0   A       3 non-null      int64\n",
            " 1   B       3 non-null      int64\n",
            "dtypes: int64(2)\n",
            "memory usage: 176.0 bytes\n",
            "\n",
            " information:\n",
            " None\n",
            "\n",
            "Importing a CSV File to a DataFrame:\n",
            "\n",
            "      Name  Age     Location\n",
            "0    Alice   25     New York\n",
            "1      Bob   30  Los Angeles\n",
            "2  Charlie   35      Chicago\n",
            "\n",
            "Exporting a DataFrame to a CSV File:\n",
            "\n",
            "   A  B\n",
            "0  1  4\n",
            "1  2  5\n",
            "2  3  6\n"
          ]
        }
      ]
    }
  ]
}